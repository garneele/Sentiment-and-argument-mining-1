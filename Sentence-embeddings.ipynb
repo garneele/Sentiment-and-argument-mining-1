{
 "cells": [
  {
   "cell_type": "code",
   "execution_count": 229,
   "metadata": {},
   "outputs": [],
   "source": [
    "import pandas as pd\n",
    "import numpy as np\n",
    "from transformers import RobertaConfig, RobertaModel\n",
    "from sentence_transformers import SentenceTransformer\n",
    "import colorama\n",
    "from colorama import Fore\n",
    "import spacy\n",
    "from spacy.lang.en import English\n",
    "from spacy.pipeline import Sentencizer"
   ]
  },
  {
   "cell_type": "code",
   "execution_count": 230,
   "metadata": {},
   "outputs": [],
   "source": [
    "nlp = English()\n",
    "sentencizer = Sentencizer()"
   ]
  },
  {
   "cell_type": "code",
   "execution_count": 231,
   "metadata": {},
   "outputs": [],
   "source": [
    "def cosine_similarity_calc(vec_1,vec_2):\n",
    "    sim= np.dot(vec_1,vec_2)/(np.linalg.norm(vec_1)*np.linalg.norm(vec_2))\n",
    "    return sim"
   ]
  },
  {
   "cell_type": "code",
   "execution_count": 10,
   "metadata": {},
   "outputs": [
    {
     "name": "stderr",
     "output_type": "stream",
     "text": [
      "100%|██████████| 405M/405M [01:05<00:00, 6.18MB/s] \n"
     ]
    }
   ],
   "source": [
    "model = SentenceTransformer('bert-base-nli-cls-token')"
   ]
  },
  {
   "cell_type": "code",
   "execution_count": 385,
   "metadata": {},
   "outputs": [],
   "source": [
    "# cc_paragraphs = [paragraph for paragraph in open(\"35066684-major.txt\", \"r\").read().split(\"\\n\") if paragraph != '']\n",
    "# cc_sentences = [str(sentence) for paragraph in cc_paragraphs for sentence in sentencizer(nlp(paragraph)).sents]\n",
    "\n",
    "# not_cc_paragraphs = [paragraph for paragraph in open(\"4571058a-peripheral.txt\", \"r\").read().split(\"\\n\") if paragraph != '']\n",
    "# not_cc_sentences = [str(sentence) for paragraph in not_cc_paragraphs for sentence in sentencizer(nlp(paragraph)).sents]"
   ]
  },
  {
   "cell_type": "code",
   "execution_count": 388,
   "metadata": {},
   "outputs": [
    {
     "data": {
      "text/plain": [
       "(11, 11)"
      ]
     },
     "execution_count": 388,
     "metadata": {},
     "output_type": "execute_result"
    }
   ],
   "source": [
    "# len(cc_paragraphs), len(not_cc_paragraphs)"
   ]
  },
  {
   "cell_type": "code",
   "execution_count": 390,
   "metadata": {},
   "outputs": [
    {
     "data": {
      "text/plain": [
       "(38, 29)"
      ]
     },
     "execution_count": 390,
     "metadata": {},
     "output_type": "execute_result"
    }
   ],
   "source": [
    "# len(cc_sentences), len(not_cc_sentences)"
   ]
  },
  {
   "cell_type": "code",
   "execution_count": 402,
   "metadata": {},
   "outputs": [
    {
     "name": "stdout",
     "output_type": "stream",
     "text": [
      "(38, 768)\n",
      "(29, 768)\n"
     ]
    }
   ],
   "source": [
    "# cc_sentences_embeddings = model.encode(cc_sentences)\n",
    "# print(cc_sentences_embeddings.shape)\n",
    "# cc_embedding = np.sum(cc_sentences_embeddings, axis=0) / len(cc_sentences)\n",
    "\n",
    "# not_cc_sentences_embeddings = model.encode(not_cc_sentences)\n",
    "# print(not_cc_sentences_embeddings.shape)\n",
    "# not_cc_embedding = np.sum(not_cc_sentences_embeddings, axis=0) / len(not_cc_sentences)"
   ]
  },
  {
   "cell_type": "code",
   "execution_count": 396,
   "metadata": {},
   "outputs": [
    {
     "data": {
      "text/plain": [
       "((768,), (768,))"
      ]
     },
     "execution_count": 396,
     "metadata": {},
     "output_type": "execute_result"
    }
   ],
   "source": [
    "# cc_embedding.shape, not_cc_embedding.shape"
   ]
  },
  {
   "cell_type": "code",
   "execution_count": 433,
   "metadata": {},
   "outputs": [],
   "source": [
    "article_not_cc_embedding = model.encode(open(\"4571058a-peripheral.txt\", \"r\").read())\n",
    "article_cc_embedding = model.encode(open(\"35066684-major.txt\", \"r\").read())"
   ]
  },
  {
   "cell_type": "code",
   "execution_count": 437,
   "metadata": {},
   "outputs": [
    {
     "data": {
      "text/plain": [
       "((768,), (768,))"
      ]
     },
     "execution_count": 437,
     "metadata": {},
     "output_type": "execute_result"
    }
   ],
   "source": [
    "article_cc_embedding.shape, article_not_cc_embedding.shape"
   ]
  },
  {
   "cell_type": "markdown",
   "metadata": {},
   "source": [
    "### Classifying one sentence at a time:\n",
    "\n",
    "#### 35066684-major.txt"
   ]
  },
  {
   "cell_type": "code",
   "execution_count": 440,
   "metadata": {},
   "outputs": [
    {
     "name": "stdout",
     "output_type": "stream",
     "text": [
      "\u001b[32m﻿Better climate data required\n",
      "\u001b[30mCC:0.545934\n",
      "\u001b[30mNOT CC:0.48723352\n",
      "\n",
      "\u001b[31mThe global observing system provides the raw data climate research relies on.\n",
      "\u001b[30mCC:0.4749302\n",
      "\u001b[30mNOT CC:0.48686957\n",
      "\n",
      "\u001b[32mBut the quality of the gathered data is patchy.\n",
      "\u001b[30mCC:0.40865558\n",
      "\u001b[30mNOT CC:0.13935283\n",
      "\n",
      "\u001b[31mThe system needs improvement — on land and on sea.\n",
      "\u001b[30mCC:0.3247871\n",
      "\u001b[30mNOT CC:0.3748203\n",
      "\n",
      "\u001b[32mIn January, the Intergovernmental Panel on Climate Change (IPCC) startled the world with a frightening climate scenario: by 2100, global temperatures could rise by almost 6 °C.\n",
      "\u001b[30mCC:0.8193907\n",
      "\u001b[30mNOT CC:0.5541208\n",
      "\n",
      "\u001b[32mFortunately, this is only a worst-case scenario.\n",
      "\u001b[30mCC:0.4641308\n",
      "\u001b[30mNOT CC:0.17529395\n",
      "\n",
      "\u001b[32mOther models predict a temperature rise of only 1.4 °C.\n",
      "\u001b[30mCC:0.64876825\n",
      "\u001b[30mNOT CC:0.3355416\n",
      "\n",
      "\u001b[32mMost probably, the rise in the next decade will lie between these extremes.\n",
      "\u001b[30mCC:0.60259336\n",
      "\u001b[30mNOT CC:0.3816239\n",
      "\n",
      "\u001b[32mBut there is also a small chance that none ofthe IPCC’s scenarios will come close to reality.\n",
      "\u001b[30mCC:0.5783081\n",
      "\u001b[30mNOT CC:0.33872548\n",
      "\n",
      "\u001b[32mSo is climate prediction no more than a game of chance?\n",
      "\u001b[30mCC:0.59209466\n",
      "\u001b[30mNOT CC:0.45733693\n",
      "\n",
      "\u001b[32mNot quite — but it is closer to one than it need be.\n",
      "\u001b[30mCC:0.27821118\n",
      "\u001b[30mNOT CC:0.15947677\n",
      "\n",
      "\u001b[32mThe accuracy of any model depends significantly on the quality of the underlying raw data.\n",
      "\u001b[30mCC:0.3773183\n",
      "\u001b[30mNOT CC:0.31887555\n",
      "\n",
      "\u001b[32mThe problem is, the quality is patchy.\n",
      "\u001b[30mCC:0.37636343\n",
      "\u001b[30mNOT CC:0.1430848\n",
      "\n",
      "\u001b[32mMonitoring and predicting the global climate requires a reliable system of constant observations, rapid data exchange and long-term recording, in standardized formats.\n",
      "\u001b[30mCC:0.44586867\n",
      "\u001b[30mNOT CC:0.37205416\n",
      "\n",
      "\u001b[32mThat is why, in 1992, the Global Climate Observing System (GCOS) was established.\n",
      "\u001b[30mCC:0.38374132\n",
      "\u001b[30mNOT CC:0.36818528\n",
      "\n",
      "\u001b[31mIts aim is to ensure that climate-relevant information is obtained and made available to all potential users.\n",
      "\u001b[30mCC:0.2865762\n",
      "\u001b[30mNOT CC:0.367442\n",
      "\n",
      "\u001b[32mThe creation of GCOS was a major advance, but the reporting system has significant deficiencies, and there are large gaps in global and regional coverage, which seriously affect climate assessment and modelling efforts.\n",
      "\u001b[30mCC:0.6617308\n",
      "\u001b[30mNOT CC:0.5031153\n",
      "\n",
      "\u001b[32mTerrestrial climate monitoring is currently based on a network of around 1,000 GCOS observation stations.\n",
      "\u001b[30mCC:0.4632341\n",
      "\u001b[30mNOT CC:0.23013514\n",
      "\n",
      "\u001b[32mBut the reliability of the data that some of them collect is inadequate, and a disproportionate number of these stations are in rich countries, with sparse coverage in many regions ofAfrica, South America and Asia.\n",
      "\u001b[30mCC:0.57793474\n",
      "\u001b[30mNOT CC:0.3474921\n",
      "\n",
      "\u001b[32mAlthough no one can say how many climate data are needed for accurate monitoring, clearly the geographical distribution should be as even as possible.\n",
      "\u001b[30mCC:0.65206367\n",
      "\u001b[30mNOT CC:0.35349783\n",
      "\n",
      "\u001b[32mBut a GCOS station costs up to $500,000 per year to operate and maintain—too much for poorer countries.\n",
      "\u001b[30mCC:0.5853731\n",
      "\u001b[30mNOT CC:0.3557618\n",
      "\n",
      "\u001b[32mAnd maintenance costs are particularly high in remote polar regions; over the past years, several stations have been closed, for example, in Russia and Canada.\n",
      "\u001b[30mCC:0.57835233\n",
      "\u001b[30mNOT CC:0.41545337\n",
      "\n",
      "\u001b[31mUnder the United Nations Framework Convention on Climate Change, all countries are required to set up and run appropriate observation programmes, and to exchange data with other nations and with international organizations.\n",
      "\u001b[30mCC:0.35429415\n",
      "\u001b[30mNOT CC:0.41999578\n",
      "\n",
      "\u001b[32mBut in practice, many poorer countries spend little on their regional climate observations.\n",
      "\u001b[30mCC:0.63928634\n",
      "\u001b[30mNOT CC:0.36169642\n",
      "\n",
      "\u001b[32mThe training of technical staff and the maintenance of instruments at their observation stations are often inadequate.\n",
      "\u001b[30mCC:0.53480947\n",
      "\u001b[30mNOT CC:0.30829427\n",
      "\n",
      "\u001b[32mThrough misreporting, instrumental drifts and biases, unreliable communication infrastructures or political unrest, about half of the world’s climate data potential is lost or corrupted each month.\n",
      "\u001b[30mCC:0.69163984\n",
      "\u001b[30mNOT CC:0.47049582\n",
      "\n",
      "\u001b[31mThe World Meteorological Organization gives regional training and technical support.\n",
      "\u001b[30mCC:0.27278054\n",
      "\u001b[30mNOT CC:0.32704076\n",
      "\n",
      "\u001b[32mBut this is not enough.\n",
      "\u001b[30mCC:0.23782124\n",
      "\u001b[30mNOT CC:0.10756518\n",
      "\n",
      "\u001b[31mThe United Nations should also help poor countries to collect and distribute accurate and consistent data sets.\n",
      "\u001b[30mCC:0.357983\n",
      "\u001b[30mNOT CC:0.39111727\n",
      "\n",
      "\u001b[32mSea-based climate observation and ocean monitoring, which is likely to add significantly to our knowledge ofwhat drives atmospheric processes, is only just beginning.\n",
      "\u001b[30mCC:0.6135995\n",
      "\u001b[30mNOT CC:0.47972703\n",
      "\n",
      "\u001b[32mThe deep oceans in particular are still under-observed.\n",
      "\u001b[30mCC:0.54705423\n",
      "\u001b[30mNOT CC:0.32493955\n",
      "\n",
      "\u001b[31mEfforts must continue to implement a more systematic ocean observation system.\n",
      "\u001b[30mCC:0.37327185\n",
      "\u001b[30mNOT CC:0.3821508\n",
      "\n",
      "\u001b[32mThe Global Ocean Observing System (GOOS), founded with GCOS, has the right approach.\n",
      "\u001b[30mCC:0.31510562\n",
      "\u001b[30mNOT CC:0.28807434\n",
      "\n",
      "\u001b[31mGOOS coordinates the use of new technologies, such as meteorological buoys, which measure climate-relevant variables in and over the oceans.\n",
      "\u001b[30mCC:0.514493\n",
      "\u001b[30mNOT CC:0.55966634\n",
      "\n",
      "\u001b[31mBut it must be expanded.\n",
      "\u001b[30mCC:0.109429926\n",
      "\u001b[30mNOT CC:0.1934725\n",
      "\n",
      "\u001b[32mA worldwide network of sea-based observation buoys will not come cheaply, and will need strong international coordination.\n",
      "\u001b[30mCC:0.5841415\n",
      "\u001b[30mNOT CC:0.48909083\n",
      "\n",
      "\u001b[32mProjects such as the Tropical Ocean Global Atmosphere programme, which ended in 1994, have shown that systematic ocean observation is essential for predicting El Ninos or seasonal weather.\n",
      "\u001b[30mCC:0.5966667\n",
      "\u001b[30mNOT CC:0.45152494\n",
      "\n",
      "\u001b[31mThere is a strong case for heavy investment in ocean meteorology.\n",
      "\u001b[30mCC:0.44391102\n",
      "\u001b[30mNOT CC:0.5181424\n",
      "\n"
     ]
    }
   ],
   "source": [
    "text = [sent.rstrip() for sent in open(\"35066684-major.txt\", \"r\").readlines() if sent.rstrip() != '']\n",
    "text = [str(sentence) for paragraph in text for sentence in sentencizer(nlp(paragraph)).sents]\n",
    "text_embeddings = model.encode(text)\n",
    "\n",
    "for i, sent in enumerate(text_embeddings):\n",
    "    if cosine_similarity_calc(sent, article_cc_embedding) > cosine_similarity_calc(sent, article_not_cc_embedding):\n",
    "        print(Fore.GREEN + text[i])\n",
    "    else:\n",
    "        print(Fore.RED + text[i])\n",
    "    print(Fore.BLACK + \"CC:\"  + str(cosine_similarity_calc(sent, article_cc_embedding)))\n",
    "    print(Fore.BLACK + \"NOT CC:\"+ str(cosine_similarity_calc(sent, article_not_cc_embedding)))\n",
    "    print()"
   ]
  },
  {
   "cell_type": "markdown",
   "metadata": {},
   "source": [
    "#### 4611173b-peripheral.txt"
   ]
  },
  {
   "cell_type": "code",
   "execution_count": null,
   "metadata": {},
   "outputs": [],
   "source": [
    "text = [sent.rstrip() for sent in open(\"4611173b-peripheral.txt\", \"r\").readlines() if sent.rstrip() != '']\n",
    "text = [str(sentence) for paragraph in text for sentence in sentencizer(nlp(paragraph)).sents]\n",
    "text_embeddings = model.encode(text)\n",
    "\n",
    "for i, sent in enumerate(text_embeddings):\n",
    "    if cosine_similarity_calc(sent, article_cc_embedding) > cosine_similarity_calc(sent, article_not_cc_embedding):\n",
    "        print(Fore.GREEN + text[i])\n",
    "    else:\n",
    "        print(Fore.RED + text[i])\n",
    "    print(Fore.BLACK + \"CC:\"  + str(cosine_similarity_calc(sent, article_cc_embedding)))\n",
    "    print(Fore.BLACK + \"NOT CC:\"+ str(cosine_similarity_calc(sent, article_not_cc_embedding)))\n",
    "    print()"
   ]
  },
  {
   "cell_type": "markdown",
   "metadata": {},
   "source": [
    "### Classifying paragraphs\n",
    "\n",
    "#### 4611173b-peripheral.txt"
   ]
  },
  {
   "cell_type": "code",
   "execution_count": 431,
   "metadata": {},
   "outputs": [
    {
     "name": "stdout",
     "output_type": "stream",
     "text": [
      "\u001b[31m﻿Darwin and culture\n",
      "\u001b[30mCC:0.15428501\n",
      "\u001b[30mNOT CC:0.3056256\n",
      "\n",
      "\u001b[31mA new series of essays traces the astounding variety of reactions to the theory of evolution.\n",
      "\u001b[30mCC:0.33830497\n",
      "\u001b[30mNOT CC:0.5159374\n",
      "\n",
      "\u001b[32mThe public reception of scientific ideas depends largely on two factors: people’s ability to grasp factual information and the cultural lens through which that information is filtered. The former is what scientists tend to focus on when they give popular accounts of issues such as climate change. The assumption is that if they explain things very, very clearly, everyone will understand. Unfortunately, this is an uphill battle. The general public’s average capacity to weigh facts and numbers is notoriously poor — although there is encouraging evidence that probabilistic reasoning can be improved by targeted education early in life (see page 1189).\n",
      "\u001b[30mCC:0.7764772\n",
      "\u001b[30mNOT CC:0.72297084\n",
      "\n",
      "\u001b[31mEven more crucial, however, are the effects of the cultural lens. Over the coming month, Natures Opinion pages will explore particularly vivid examples of these effects in the world’s widely divergent reactions to Charles Darwin’s ideas about evolution in the late nineteenth and early twentieth centuries (see page 1200).\n",
      "\u001b[30mCC:0.6058615\n",
      "\u001b[30mNOT CC:0.6377132\n",
      "\n",
      "\u001b[32mIn England, for example, the Church reacted badly to Darwin’s theory, going so far as to say that to believe it was to imperil your soul. But the notion that Darwin’s ideas ‘killed’ God and were a threat to religion was by no means the universal response in the nineteenth century.\n",
      "\u001b[30mCC:0.59054923\n",
      "\u001b[30mNOT CC:0.5830164\n",
      "\n",
      "\u001b[31mDarwins theory reached the world at a time when many people were looking for explanations for social, political and racial inequalities, and in many parts of the world were wondering how to improve their lot in the face of Europe’s global imperialism. So from Egypt to India, China and Japan, many religious scholars embraced Darwin’s ideas, often showing how their own schools of thought had anticipated the notion of evolution. Against the threat of Western imperialism and Western charges of ‘backwardness’, it was to their advantage to highlight the rationality of their creed.\n",
      "\u001b[30mCC:0.55030996\n",
      "\u001b[30mNOT CC:0.73679364\n",
      "\n",
      "\u001b[31mIn China, Darwins ideas were seen as supporting Confucians’ belief in the perfectibility of the cosmic order. Evolutionary theory also became fodder for political movements of revolution and reform, and eventually laid the groundwork for communism. Latin American politicians initially reacted to Darwin’s ideas by attempting to entice white Europeans to emigrate and intermarry with local populations, believing that this would ‘improve the stock’. But after two world wars had made European culture look less impressive, Latin America began to see its racial diversity as an advantage, and moved towards a social view that favoured a homogeneous blend of cultures.\n",
      "\u001b[30mCC:0.56121254\n",
      "\u001b[30mNOT CC:0.671714\n",
      "\n",
      "\u001b[32mIn nineteenth-century Russia, meanwhile, a tendency to distrust rabid, dog-eat-dog capitalism helped incline naturalists away from a view of evolution that emphasized competition between species. Instead they embraced a ‘theory of mutual aid, an account that focused on the role of cooperation in ensuring survival in a harsh environment.\n",
      "\u001b[30mCC:0.5845236\n",
      "\u001b[30mNOT CC:0.55780554\n",
      "\n",
      "\u001b[32mThe lesson for today’s scientists and policy-makers is simple: they cannot assume that a public presented with ‘the facts’ will come to the same conclusion as themselves. They must take value systems, cultural backdrops and local knowledge gaps into account and frame their arguments accordingly. Such approaches will be crucial in facing current global challenges, from recessions to pandemics and climate change. These issues will be perceived and dealt with differently by different nations — not because they misunderstand, but because their understanding is in part locally dependent.\n",
      "\u001b[30mCC:0.7170604\n",
      "\u001b[30mNOT CC:0.658403\n",
      "\n",
      "\u001b[31mDarwin once said: “But then with me the horrid doubt always arises whether the convictions of man’s mind, which has been developed from the mind of the lower animals, are of any value or at all trustworthy.” Researchers and policy-makers would do well to mimic his humility when presenting science, and remember how people’s minds truly work.\n",
      "\u001b[30mCC:0.5944788\n",
      "\u001b[30mNOT CC:0.62920904\n",
      "\n"
     ]
    }
   ],
   "source": [
    "text = [sent.rstrip() for sent in open(\"4611173b-peripheral.txt\", \"r\").readlines() if sent.rstrip() != '']\n",
    "# text = [str(sentence) for paragraph in text for sentence in sentencizer(nlp(paragraph)).sents]\n",
    "text_embeddings = model.encode(text)\n",
    "\n",
    "for i, sent in enumerate(text_embeddings):\n",
    "    if cosine_similarity_calc(sent, article_cc_embedding) > cosine_similarity_calc(sent, article_not_cc_embedding):\n",
    "        print(Fore.GREEN + text[i])\n",
    "    else:\n",
    "        print(Fore.RED + text[i])\n",
    "    print(Fore.BLACK + \"CC:\"  + str(cosine_similarity_calc(sent, article_cc_embedding)))\n",
    "    print(Fore.BLACK + \"NOT CC:\"+ str(cosine_similarity_calc(sent, article_not_cc_embedding)))\n",
    "    print()"
   ]
  },
  {
   "cell_type": "markdown",
   "metadata": {},
   "source": [
    "#### Articles/NatureOCR/279001a0.ocr.txt"
   ]
  },
  {
   "cell_type": "code",
   "execution_count": 432,
   "metadata": {},
   "outputs": [
    {
     "name": "stdout",
     "output_type": "stream",
     "text": [
      "\u001b[31m﻿Costs and benefits of carbon dioxide\n",
      "\u001b[30mCC:0.3406849\n",
      "\u001b[30mNOT CC:0.42073855\n",
      "\n",
      "\u001b[32mThe release of carbon dioxide to the atmosphere by the burning of fossil fuels is, conceivably, the most important environmental issue in the world today. Whatever direction global energy policies take in the future, it is indisputable that carbon dioxide concentrations in the atmosphere will continue to rise. There is still uncertainty about the ultimate destination of carbon dioxide. It seems that roughly half the fossil fuel output has remained in the atmosphere, and early workers supposed that the remainder was consumed by the oceans and the biosphere. But the role of the biosphere is now a matter of hot debate. Some research has suggested that far from being a sink for carbon dioxide, the biosphere (through deforestation and changing land use) could actually be a source. Other work suggests the contrary, or that the role of the biosphere has actually changed with time. But it is inescapable that atmospheric concentrations have already climbed by 15% as a result of man’s activities during this century and there seems little doubt that concentrations would be double present values around the middle of the next century if current growth rates for the use of fossil fuels (over 4% per annum) were to persist. This is unlikely, of course, given the depletion of energy resources, but at least the figure gives some sort of guide for realistic modelling.\n",
      "\u001b[30mCC:0.71440387\n",
      "\u001b[30mNOT CC:0.6532393\n",
      "\n",
      "\u001b[32mWhatever the uncertainties about future emissions and the biosphere, there is no disagreement amongst researchers on the qualitative impact that an increase in carbon dioxide will have on climate: mean annual surface temperature will rise, and the rises will be greater at high latitudes. There is also consensus that the hydrological cycle would become more active—with precipitation and evaporation levels both rising. Beyond this there is still scope for quantitative disagreement, but a commonly quoted figure is that a doubling of atmospheric carbon dioxide would result in a world global annual mean surface temperature rise of 2 to 3 °C, with marked latitudinal asymmetry. As yet, however, no model adequately accounts for changes in the ice-covered regions of the world or in the hydrosphere (particularly ocean currents), and there is considerable room for disagreement regarding the importance of feedback effects arising from changes in cloud cover.\n",
      "\u001b[30mCC:0.7022232\n",
      "\u001b[30mNOT CC:0.54372305\n",
      "\n",
      "\u001b[31mWith so much uncertainty around, is it irresponsible and premature to widen the debate at this stage from meteorologists and climatologists to those with interests in the consequences of climatic change—agriculturalists, glaciologists, oceanographers, economists, sociologists, political scientists and so on? Surely not, provided that sensible perspectives are maintained. A recent workshop jointly sponsored by the American Association for the Advancement of Science and the US Department of Energy has been attempting to lay transdisciplinary foundations for a federally supported research programme on the impact of increasing atmospheric carbon dioxide content and it is not too early for other nations (or more reasonably groups of nations, such as the European Economic Community) to take similar initiatives. Even if large amounts of money were not immediately forthcoming, there are still some links across the specialist boundaries which ought to be made now.\n",
      "\u001b[30mCC:0.74489176\n",
      "\u001b[30mNOT CC:0.75211614\n",
      "\n",
      "\u001b[31mIn the long run the United Nations presumably has to get in on the act, and the United Nations Environmental Programme will shortly be setting up a carbon dioxide committee. At first sight scientists might despair at the thought of yet another area in which there will be politicised conflict between industrialised nations, large-scale releasers of carbon dioxide, and the developing world, involuntary recipients of the consequences. But careful reading of what climatologists and meteor-logists have to say by way of prediction makes it clear that there could be as many benefits as losses as a result of temperature and rainfall changes—and that some parts of the world may even become cooler.\n",
      "\u001b[30mCC:0.7480972\n",
      "\u001b[30mNOT CC:0.7604522\n",
      "\n",
      "\u001b[32mThere is no clear indication that the animal and plant kingdoms will as a whole prosper more or less in a changed climate. And there may be direct carbon dioxide effects, such as changes in the rates of photosynthesis and respiration, increases in the efficiency of plant water use and changes in nitrogen fixation rates. To be sure, the most widely publicised effect of a substantial global warming is the danger of the West Antarctic Ice Sheet breaking loose and melting, with highly predictable effects on sea level. But for the rest the picture is complex and by no means universally gloomy. The sooner some of the complexities are unravelled, the sooner the carbon dioxide problem can be intelligently injected into discussions of world energy strategies.\n",
      "\u001b[30mCC:0.8233782\n",
      "\u001b[30mNOT CC:0.62991905\n",
      "\n"
     ]
    }
   ],
   "source": [
    "text = [sent.rstrip() for sent in open(\"/Users/lukaborec/Projects/PM-ArgMining/Articles/NatureOCR/279001a0.ocr.txt\", \"r\").readlines() if sent.rstrip() != '']\n",
    "# text = [str(sentence) for paragraph in text for sentence in sentencizer(nlp(paragraph)).sents]\n",
    "text_embeddings = model.encode(text)\n",
    "\n",
    "for i, sent in enumerate(text_embeddings):\n",
    "    if cosine_similarity_calc(sent, article_cc_embedding) > cosine_similarity_calc(sent, article_not_cc_embedding):\n",
    "        print(Fore.GREEN + text[i])\n",
    "    else:\n",
    "        print(Fore.RED + text[i])\n",
    "    print(Fore.BLACK + \"CC:\"  + str(cosine_similarity_calc(sent, article_cc_embedding)))\n",
    "    print(Fore.BLACK + \"NOT CC:\"+ str(cosine_similarity_calc(sent, article_not_cc_embedding)))\n",
    "    print()"
   ]
  },
  {
   "cell_type": "markdown",
   "metadata": {},
   "source": [
    "#### 35066684-major.txt"
   ]
  },
  {
   "cell_type": "code",
   "execution_count": 436,
   "metadata": {},
   "outputs": [
    {
     "name": "stdout",
     "output_type": "stream",
     "text": [
      "\u001b[32m﻿Better climate data required\n",
      "\u001b[30mCC:0.545934\n",
      "\u001b[30mNOT CC:0.48723352\n",
      "\n",
      "\u001b[32mThe global observing system provides the raw data climate research relies on. But the quality of the gathered data is patchy. The system needs improvement — on land and on sea.\n",
      "\u001b[30mCC:0.70606136\n",
      "\u001b[30mNOT CC:0.49900967\n",
      "\n",
      "\u001b[32mIn January, the Intergovernmental Panel on Climate Change (IPCC) startled the world with a frightening climate scenario: by 2100, global temperatures could rise by almost 6 °C. Fortunately, this is only a worst-case scenario. Other models predict a temperature rise of only 1.4 °C. Most probably, the rise in the next decade will lie between these extremes. But there is also a small chance that none ofthe IPCC’s scenarios will come close to reality.\n",
      "\u001b[30mCC:0.95551234\n",
      "\u001b[30mNOT CC:0.56526184\n",
      "\n",
      "\u001b[32mSo is climate prediction no more than a game of chance? Not quite — but it is closer to one than it need be. The accuracy of any model depends significantly on the quality of the underlying raw data. The problem is, the quality is patchy.\n",
      "\u001b[30mCC:0.74585825\n",
      "\u001b[30mNOT CC:0.47778842\n",
      "\n",
      "\u001b[32mMonitoring and predicting the global climate requires a reliable system of constant observations, rapid data exchange and long-term recording, in standardized formats. That is why, in 1992, the Global Climate Observing System (GCOS) was established. Its aim is to ensure that climate-relevant information is obtained and made available to all potential users. The creation of GCOS was a major advance, but the reporting system has significant deficiencies, and there are large gaps in global and regional coverage, which seriously affect climate assessment and modelling efforts.\n",
      "\u001b[30mCC:0.65667415\n",
      "\u001b[30mNOT CC:0.5564799\n",
      "\n",
      "\u001b[32mTerrestrial climate monitoring is currently based on a network of around 1,000 GCOS observation stations. But the reliability of the data that some of them collect is inadequate, and a disproportionate number of these stations are in rich countries, with sparse coverage in many regions ofAfrica, South America and Asia. Although no one can say how many climate data are needed for accurate monitoring, clearly the geographical distribution should be as even as possible.\n",
      "\u001b[30mCC:0.7664788\n",
      "\u001b[30mNOT CC:0.39814803\n",
      "\n",
      "\u001b[32mBut a GCOS station costs up to $500,000 per year to operate and maintain—too much for poorer countries. And maintenance costs are particularly high in remote polar regions; over the past years, several stations have been closed, for example, in Russia and Canada.\n",
      "\u001b[30mCC:0.6375563\n",
      "\u001b[30mNOT CC:0.41523287\n",
      "\n",
      "\u001b[32mUnder the United Nations Framework Convention on Climate Change, all countries are required to set up and run appropriate observation programmes, and to exchange data with other nations and with international organizations. But in practice, many poorer countries spend little on their regional climate observations. The training of technical staff and the maintenance of instruments at their observation stations are often inadequate. Through misreporting, instrumental drifts and biases, unreliable communication infrastructures or political unrest, about half of the world’s climate data potential is lost or corrupted each month.\n",
      "\u001b[30mCC:0.8033474\n",
      "\u001b[30mNOT CC:0.5343487\n",
      "\n",
      "\u001b[32mThe World Meteorological Organization gives regional training and technical support. But this is not enough. The United Nations should also help poor countries to collect and distribute accurate and consistent data sets.\n",
      "\u001b[30mCC:0.6045695\n",
      "\u001b[30mNOT CC:0.55055237\n",
      "\n",
      "\u001b[32mSea-based climate observation and ocean monitoring, which is likely to add significantly to our knowledge ofwhat drives atmospheric processes, is only just beginning. The deep oceans in particular are still under-observed. Efforts must continue to implement a more systematic ocean observation system. The Global Ocean Observing System (GOOS), founded with GCOS, has the right approach. GOOS coordinates the use of new technologies, such as meteorological buoys, which measure climate-relevant variables in and over the oceans. But it must be expanded.\n",
      "\u001b[30mCC:0.75264055\n",
      "\u001b[30mNOT CC:0.60788906\n",
      "\n",
      "\u001b[32mA worldwide network of sea-based observation buoys will not come cheaply, and will need strong international coordination. Projects such as the Tropical Ocean Global Atmosphere programme, which ended in 1994, have shown that systematic ocean observation is essential for predicting El Ninos or seasonal weather. There is a strong case for heavy investment in ocean meteorology.\n",
      "\u001b[30mCC:0.7183116\n",
      "\u001b[30mNOT CC:0.5765815\n",
      "\n"
     ]
    }
   ],
   "source": [
    "# SAME\n",
    "text = [sent.rstrip() for sent in open(\"35066684-major.txt\", \"r\").readlines() if sent.rstrip() != '']\n",
    "# text = [str(sentence) for paragraph in text for sentence in sentencizer(nlp(paragraph)).sents]\n",
    "text_embeddings = model.encode(text)\n",
    "\n",
    "for i, sent in enumerate(text_embeddings):\n",
    "    if cosine_similarity_calc(sent, article_cc_embedding) > cosine_similarity_calc(sent, article_not_cc_embedding):\n",
    "        print(Fore.GREEN + text[i])\n",
    "    else:\n",
    "        print(Fore.RED + text[i])\n",
    "    print(Fore.BLACK + \"CC:\"  + str(cosine_similarity_calc(sent, article_cc_embedding)))\n",
    "    print(Fore.BLACK + \"NOT CC:\"+ str(cosine_similarity_calc(sent, article_not_cc_embedding)))\n",
    "    print()"
   ]
  },
  {
   "cell_type": "code",
   "execution_count": null,
   "metadata": {},
   "outputs": [],
   "source": []
  }
 ],
 "metadata": {
  "kernelspec": {
   "display_name": "Python 3",
   "language": "python",
   "name": "python3"
  },
  "language_info": {
   "codemirror_mode": {
    "name": "ipython",
    "version": 3
   },
   "file_extension": ".py",
   "mimetype": "text/x-python",
   "name": "python",
   "nbconvert_exporter": "python",
   "pygments_lexer": "ipython3",
   "version": "3.7.1"
  }
 },
 "nbformat": 4,
 "nbformat_minor": 2
}
